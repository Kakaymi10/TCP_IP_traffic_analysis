{
  "cells": [
    {
      "cell_type": "code",
      "source": [
        "!pip install scapy\n"
      ],
      "metadata": {
        "colab": {
          "base_uri": "https://localhost:8080/"
        },
        "id": "Yit5CYFGegkp",
        "outputId": "07f73cf8-2f5d-486b-8f22-48af4c4a7939"
      },
      "execution_count": 2,
      "outputs": [
        {
          "output_type": "stream",
          "name": "stdout",
          "text": [
            "Collecting scapy\n",
            "  Downloading scapy-2.5.0.tar.gz (1.3 MB)\n",
            "\u001b[2K     \u001b[90m━━━━━━━━━━━━━━━━━━━━━━━━━━━━━━━━━━━━━━━━\u001b[0m \u001b[32m1.3/1.3 MB\u001b[0m \u001b[31m8.0 MB/s\u001b[0m eta \u001b[36m0:00:00\u001b[0m\n",
            "\u001b[?25h  Preparing metadata (setup.py) ... \u001b[?25l\u001b[?25hdone\n",
            "Building wheels for collected packages: scapy\n",
            "  Building wheel for scapy (setup.py) ... \u001b[?25l\u001b[?25hdone\n",
            "  Created wheel for scapy: filename=scapy-2.5.0-py2.py3-none-any.whl size=1444328 sha256=8cdb39d1fc3c66c2d4843b4df6618ed343820872e6578d82f3b38bce8b042edd\n",
            "  Stored in directory: /root/.cache/pip/wheels/82/b7/03/8344d8cf6695624746311bc0d389e9d05535ca83c35f90241d\n",
            "Successfully built scapy\n",
            "Installing collected packages: scapy\n",
            "Successfully installed scapy-2.5.0\n"
          ]
        }
      ]
    },
    {
      "cell_type": "code",
      "source": [
        "from scapy.all import *\n",
        "from google.colab import files"
      ],
      "metadata": {
        "id": "kMMSUBqYXogY"
      },
      "execution_count": 6,
      "outputs": []
    },
    {
      "cell_type": "code",
      "source": [
        "\n",
        "# Upload 'capture.pcapng' file from local machine to Colab\n",
        "uploaded = files.upload()\n",
        "# Check if the file is uploaded\n",
        "if 'network.pcapng' in uploaded:\n",
        "    print('File uploaded successfully!')"
      ],
      "metadata": {
        "colab": {
          "base_uri": "https://localhost:8080/",
          "height": 90
        },
        "id": "0BEkDTIeeXPH",
        "outputId": "763c7ac8-76fd-471f-dba5-2a58cf392fcd"
      },
      "execution_count": 12,
      "outputs": [
        {
          "output_type": "display_data",
          "data": {
            "text/plain": [
              "<IPython.core.display.HTML object>"
            ],
            "text/html": [
              "\n",
              "     <input type=\"file\" id=\"files-69538ea7-8b7b-420d-af27-b454863c7c47\" name=\"files[]\" multiple disabled\n",
              "        style=\"border:none\" />\n",
              "     <output id=\"result-69538ea7-8b7b-420d-af27-b454863c7c47\">\n",
              "      Upload widget is only available when the cell has been executed in the\n",
              "      current browser session. Please rerun this cell to enable.\n",
              "      </output>\n",
              "      <script>// Copyright 2017 Google LLC\n",
              "//\n",
              "// Licensed under the Apache License, Version 2.0 (the \"License\");\n",
              "// you may not use this file except in compliance with the License.\n",
              "// You may obtain a copy of the License at\n",
              "//\n",
              "//      http://www.apache.org/licenses/LICENSE-2.0\n",
              "//\n",
              "// Unless required by applicable law or agreed to in writing, software\n",
              "// distributed under the License is distributed on an \"AS IS\" BASIS,\n",
              "// WITHOUT WARRANTIES OR CONDITIONS OF ANY KIND, either express or implied.\n",
              "// See the License for the specific language governing permissions and\n",
              "// limitations under the License.\n",
              "\n",
              "/**\n",
              " * @fileoverview Helpers for google.colab Python module.\n",
              " */\n",
              "(function(scope) {\n",
              "function span(text, styleAttributes = {}) {\n",
              "  const element = document.createElement('span');\n",
              "  element.textContent = text;\n",
              "  for (const key of Object.keys(styleAttributes)) {\n",
              "    element.style[key] = styleAttributes[key];\n",
              "  }\n",
              "  return element;\n",
              "}\n",
              "\n",
              "// Max number of bytes which will be uploaded at a time.\n",
              "const MAX_PAYLOAD_SIZE = 100 * 1024;\n",
              "\n",
              "function _uploadFiles(inputId, outputId) {\n",
              "  const steps = uploadFilesStep(inputId, outputId);\n",
              "  const outputElement = document.getElementById(outputId);\n",
              "  // Cache steps on the outputElement to make it available for the next call\n",
              "  // to uploadFilesContinue from Python.\n",
              "  outputElement.steps = steps;\n",
              "\n",
              "  return _uploadFilesContinue(outputId);\n",
              "}\n",
              "\n",
              "// This is roughly an async generator (not supported in the browser yet),\n",
              "// where there are multiple asynchronous steps and the Python side is going\n",
              "// to poll for completion of each step.\n",
              "// This uses a Promise to block the python side on completion of each step,\n",
              "// then passes the result of the previous step as the input to the next step.\n",
              "function _uploadFilesContinue(outputId) {\n",
              "  const outputElement = document.getElementById(outputId);\n",
              "  const steps = outputElement.steps;\n",
              "\n",
              "  const next = steps.next(outputElement.lastPromiseValue);\n",
              "  return Promise.resolve(next.value.promise).then((value) => {\n",
              "    // Cache the last promise value to make it available to the next\n",
              "    // step of the generator.\n",
              "    outputElement.lastPromiseValue = value;\n",
              "    return next.value.response;\n",
              "  });\n",
              "}\n",
              "\n",
              "/**\n",
              " * Generator function which is called between each async step of the upload\n",
              " * process.\n",
              " * @param {string} inputId Element ID of the input file picker element.\n",
              " * @param {string} outputId Element ID of the output display.\n",
              " * @return {!Iterable<!Object>} Iterable of next steps.\n",
              " */\n",
              "function* uploadFilesStep(inputId, outputId) {\n",
              "  const inputElement = document.getElementById(inputId);\n",
              "  inputElement.disabled = false;\n",
              "\n",
              "  const outputElement = document.getElementById(outputId);\n",
              "  outputElement.innerHTML = '';\n",
              "\n",
              "  const pickedPromise = new Promise((resolve) => {\n",
              "    inputElement.addEventListener('change', (e) => {\n",
              "      resolve(e.target.files);\n",
              "    });\n",
              "  });\n",
              "\n",
              "  const cancel = document.createElement('button');\n",
              "  inputElement.parentElement.appendChild(cancel);\n",
              "  cancel.textContent = 'Cancel upload';\n",
              "  const cancelPromise = new Promise((resolve) => {\n",
              "    cancel.onclick = () => {\n",
              "      resolve(null);\n",
              "    };\n",
              "  });\n",
              "\n",
              "  // Wait for the user to pick the files.\n",
              "  const files = yield {\n",
              "    promise: Promise.race([pickedPromise, cancelPromise]),\n",
              "    response: {\n",
              "      action: 'starting',\n",
              "    }\n",
              "  };\n",
              "\n",
              "  cancel.remove();\n",
              "\n",
              "  // Disable the input element since further picks are not allowed.\n",
              "  inputElement.disabled = true;\n",
              "\n",
              "  if (!files) {\n",
              "    return {\n",
              "      response: {\n",
              "        action: 'complete',\n",
              "      }\n",
              "    };\n",
              "  }\n",
              "\n",
              "  for (const file of files) {\n",
              "    const li = document.createElement('li');\n",
              "    li.append(span(file.name, {fontWeight: 'bold'}));\n",
              "    li.append(span(\n",
              "        `(${file.type || 'n/a'}) - ${file.size} bytes, ` +\n",
              "        `last modified: ${\n",
              "            file.lastModifiedDate ? file.lastModifiedDate.toLocaleDateString() :\n",
              "                                    'n/a'} - `));\n",
              "    const percent = span('0% done');\n",
              "    li.appendChild(percent);\n",
              "\n",
              "    outputElement.appendChild(li);\n",
              "\n",
              "    const fileDataPromise = new Promise((resolve) => {\n",
              "      const reader = new FileReader();\n",
              "      reader.onload = (e) => {\n",
              "        resolve(e.target.result);\n",
              "      };\n",
              "      reader.readAsArrayBuffer(file);\n",
              "    });\n",
              "    // Wait for the data to be ready.\n",
              "    let fileData = yield {\n",
              "      promise: fileDataPromise,\n",
              "      response: {\n",
              "        action: 'continue',\n",
              "      }\n",
              "    };\n",
              "\n",
              "    // Use a chunked sending to avoid message size limits. See b/62115660.\n",
              "    let position = 0;\n",
              "    do {\n",
              "      const length = Math.min(fileData.byteLength - position, MAX_PAYLOAD_SIZE);\n",
              "      const chunk = new Uint8Array(fileData, position, length);\n",
              "      position += length;\n",
              "\n",
              "      const base64 = btoa(String.fromCharCode.apply(null, chunk));\n",
              "      yield {\n",
              "        response: {\n",
              "          action: 'append',\n",
              "          file: file.name,\n",
              "          data: base64,\n",
              "        },\n",
              "      };\n",
              "\n",
              "      let percentDone = fileData.byteLength === 0 ?\n",
              "          100 :\n",
              "          Math.round((position / fileData.byteLength) * 100);\n",
              "      percent.textContent = `${percentDone}% done`;\n",
              "\n",
              "    } while (position < fileData.byteLength);\n",
              "  }\n",
              "\n",
              "  // All done.\n",
              "  yield {\n",
              "    response: {\n",
              "      action: 'complete',\n",
              "    }\n",
              "  };\n",
              "}\n",
              "\n",
              "scope.google = scope.google || {};\n",
              "scope.google.colab = scope.google.colab || {};\n",
              "scope.google.colab._files = {\n",
              "  _uploadFiles,\n",
              "  _uploadFilesContinue,\n",
              "};\n",
              "})(self);\n",
              "</script> "
            ]
          },
          "metadata": {}
        },
        {
          "output_type": "stream",
          "name": "stdout",
          "text": [
            "Saving network.pcapng to network.pcapng\n",
            "File uploaded successfully!\n"
          ]
        }
      ]
    },
    {
      "cell_type": "code",
      "source": [
        "# Load the uploaded pcapng file\n",
        "file_path = list(uploaded.keys())[0]  # Get the file path\n",
        "packets = rdpcap(file_path)"
      ],
      "metadata": {
        "id": "jcGuRSnigIEy"
      },
      "execution_count": 13,
      "outputs": []
    },
    {
      "cell_type": "code",
      "source": [
        "# Analyze Captured Data\n",
        "# Example: Print summary information of the first 10 packets\n",
        "print(\"Summary of the first 10 packets:\")\n",
        "print(packets.summary())\n"
      ],
      "metadata": {
        "colab": {
          "base_uri": "https://localhost:8080/"
        },
        "id": "LVJ4q9h6gXwC",
        "outputId": "b7dcfbf8-ae16-4a1b-ce27-3efeb8454562"
      },
      "execution_count": 14,
      "outputs": [
        {
          "output_type": "stream",
          "name": "stdout",
          "text": [
            "Summary of the first 10 packets:\n",
            "Ether / IP / UDP 192.168.1.80:51487 > 239.255.255.250:1900 / Raw\n",
            "Ether / IPv6 / ICMPv6ND_NS / ICMPv6 Neighbor Discovery Option - Source Link-Layer Address 78:3e:a1:b5:38:30\n",
            "Ether / IPv6 / ICMPv6ND_NA / ICMPv6 Neighbor Discovery Option - Destination Link-Layer Address b4:b5:b6:de:47:4b\n",
            "Ether / IPv6 / ICMPv6ND_NS / ICMPv6 Neighbor Discovery Option - Source Link-Layer Address 78:3e:a1:b5:38:30\n",
            "Ether / IPv6 / ICMPv6ND_NA / ICMPv6 Neighbor Discovery Option - Destination Link-Layer Address b4:b5:b6:de:47:4b\n",
            "Ether / IP / UDP 192.168.1.80:51487 > 239.255.255.250:1900 / Raw\n",
            "Ether / IP / TCP 3.33.193.183:443 > 192.168.1.73:49826 PA / Raw\n",
            "Ether / IP / TCP 192.168.1.73:49826 > 3.33.193.183:443 PA / Raw\n",
            "Ether / IP / TCP 3.33.193.183:443 > 192.168.1.73:49826 A\n",
            "Ether / IP / UDP 192.168.1.80:51487 > 239.255.255.250:1900 / Raw\n",
            "Ether / ARP who has 192.168.1.73 says 192.168.1.254 / Padding\n",
            "Ether / ARP is at b4:b5:b6:de:47:4b says 192.168.1.73\n",
            "Ether / IPv6 / ICMPv6ND_NS / ICMPv6 Neighbor Discovery Option - Source Link-Layer Address 78:3e:a1:b5:38:30\n",
            "Ether / IPv6 / ICMPv6ND_NA / ICMPv6 Neighbor Discovery Option - Destination Link-Layer Address b4:b5:b6:de:47:4b\n",
            "Ether / IP / UDP 192.168.1.73:62630 > 239.255.255.250:1900 / Raw\n",
            "Ether / IP / UDP 192.168.1.73:62630 > 239.255.255.250:1900 / Raw\n",
            "Ether / IP / UDP 192.168.1.73:62630 > 239.255.255.250:1900 / Raw\n",
            "Ether / IP / TCP 20.65.133.230:443 > 192.168.1.73:57332 PA / Raw\n",
            "Ether / IP / TCP 192.168.1.73:57332 > 20.65.133.230:443 PA / Raw\n",
            "Ether / IPv6 / ICMPv6ND_NS / ICMPv6 Neighbor Discovery Option - Source Link-Layer Address 78:3e:a1:b5:38:30\n",
            "Ether / IPv6 / ICMPv6ND_NA / ICMPv6 Neighbor Discovery Option - Destination Link-Layer Address b4:b5:b6:de:47:4b\n",
            "Ether / IPv6 / ICMPv6ND_NS / ICMPv6 Neighbor Discovery Option - Source Link-Layer Address 78:3e:a1:b5:38:30\n",
            "Ether / IPv6 / ICMPv6ND_NA / ICMPv6 Neighbor Discovery Option - Destination Link-Layer Address b4:b5:b6:de:47:4b\n",
            "Ether / IP / TCP 192.168.1.73:57332 > 20.65.133.230:443 PA / Raw\n",
            "Ether / IP / TCP 20.65.133.230:443 > 192.168.1.73:57332 A / Padding\n",
            "Ether / IP / UDP 192.168.1.73:62630 > 239.255.255.250:1900 / Raw\n",
            "Ether / IP / TCP 20.65.133.230:443 > 192.168.1.73:57332 A\n",
            "None\n"
          ]
        }
      ]
    },
    {
      "cell_type": "code",
      "source": [
        "# Example: Extract source and destination IP addresses of TCP packets\n",
        "tcp_packets = [pkt for pkt in packets if pkt.haslayer(TCP)]\n",
        "for pkt in tcp_packets[:10]:\n",
        "    print(\"Source IP:\", pkt[IP].src)\n",
        "    print(\"Destination IP:\", pkt[IP].dst)"
      ],
      "metadata": {
        "colab": {
          "base_uri": "https://localhost:8080/"
        },
        "id": "BLlrmh-UgfiA",
        "outputId": "88724d99-2553-42c8-a3bc-4154551d3e30"
      },
      "execution_count": 15,
      "outputs": [
        {
          "output_type": "stream",
          "name": "stdout",
          "text": [
            "Source IP: 3.33.193.183\n",
            "Destination IP: 192.168.1.73\n",
            "Source IP: 192.168.1.73\n",
            "Destination IP: 3.33.193.183\n",
            "Source IP: 3.33.193.183\n",
            "Destination IP: 192.168.1.73\n",
            "Source IP: 20.65.133.230\n",
            "Destination IP: 192.168.1.73\n",
            "Source IP: 192.168.1.73\n",
            "Destination IP: 20.65.133.230\n",
            "Source IP: 192.168.1.73\n",
            "Destination IP: 20.65.133.230\n",
            "Source IP: 20.65.133.230\n",
            "Destination IP: 192.168.1.73\n",
            "Source IP: 20.65.133.230\n",
            "Destination IP: 192.168.1.73\n"
          ]
        }
      ]
    },
    {
      "cell_type": "code",
      "source": [
        "# Example: Analyze packet sizes\n",
        "packet_sizes = [len(pkt) for pkt in packets]\n",
        "print(\"Minimum Packet Size:\", min(packet_sizes))\n",
        "print(\"Maximum Packet Size:\", max(packet_sizes))\n",
        "print(\"Average Packet Size:\", sum(packet_sizes) / len(packet_sizes))"
      ],
      "metadata": {
        "colab": {
          "base_uri": "https://localhost:8080/"
        },
        "id": "OngE47lLiS6F",
        "outputId": "8e0922c2-4972-4c33-b22e-405ee6781e02"
      },
      "execution_count": 16,
      "outputs": [
        {
          "output_type": "stream",
          "name": "stdout",
          "text": [
            "Minimum Packet Size: 42\n",
            "Maximum Packet Size: 216\n",
            "Average Packet Size: 113.70370370370371\n"
          ]
        }
      ]
    },
    {
      "cell_type": "code",
      "source": [
        "import networkx as nx\n",
        "import matplotlib.pyplot as plt"
      ],
      "metadata": {
        "id": "8Sa0nQQEiclJ"
      },
      "execution_count": 17,
      "outputs": []
    },
    {
      "cell_type": "code",
      "source": [
        "# Create an empty directed graph\n",
        "G = nx.DiGraph()\n",
        "\n",
        "# Extract source and destination IP addresses from packets\n",
        "edges = [(pkt[IP].src, pkt[IP].dst) for pkt in packets if IP in pkt]"
      ],
      "metadata": {
        "id": "627cidRZiiow"
      },
      "execution_count": 18,
      "outputs": []
    },
    {
      "cell_type": "code",
      "source": [
        "# Add edges to the graph\n",
        "G.add_edges_from(edges)\n",
        "\n",
        "# Plot the network graph\n",
        "plt.figure(figsize=(10, 8))\n",
        "nx.draw(G, with_labels=True, node_size=500, node_color='skyblue', font_size=10, edge_color='gray')\n",
        "plt.title('Network Communication Graph')\n",
        "plt.show()"
      ],
      "metadata": {
        "colab": {
          "base_uri": "https://localhost:8080/",
          "height": 859
        },
        "id": "33j9VshMiky_",
        "outputId": "16a9aafa-0e5b-4bb3-fa88-84476f44a1e4"
      },
      "execution_count": 19,
      "outputs": [
        {
          "output_type": "display_data",
          "data": {
            "text/plain": [
              "<Figure size 1000x800 with 1 Axes>"
            ],
            "image/png": "[encoded data removed]"
          },
          "metadata": {}
        }
      ]
    }
  ],
  "metadata": {
    "colab": {
      "provenance": []
    },
    "kernelspec": {
      "display_name": "Python 3",
      "name": "python3"
    },
    "language_info": {
      "name": "python"
    }
  },
  "nbformat": 4,
  "nbformat_minor": 0
}